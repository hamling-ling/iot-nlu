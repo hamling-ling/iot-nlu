{
 "cells": [
  {
   "cell_type": "markdown",
   "metadata": {},
   "source": [
    "# Convert onnx models to TensorRT engine\n",
    "\n",
    "<span style=\"color:red\">RUN THIS NOTEBOOK IN iot-nlu-trt CONTAINER!!!</span>\n"
   ]
  },
  {
   "cell_type": "markdown",
   "metadata": {},
   "source": [
    "## fp16 Quantization"
   ]
  },
  {
   "cell_type": "code",
   "execution_count": null,
   "metadata": {},
   "outputs": [],
   "source": [
    "import numpy as np\n",
    "import tensorrt as trt\n",
    "import pycuda.autoinit\n",
    "import pycuda.driver as cuda\n",
    "import unicodedata\n",
    "import json"
   ]
  },
  {
   "cell_type": "code",
   "execution_count": null,
   "metadata": {},
   "outputs": [],
   "source": [
    "# インテントの種類数 (None=0, LED_ON=1, LED_OFF=2, READ_THERMO=3, OPEN=4, CLOSE=5, SET_TEMP=6)\n",
    "NUM_INTENT_LABELS = 7\n",
    "\n",
    "# スロットの種類数 (COL=1, COLLTDEV=2, LOC=3, ONOFFDEV=4, OPENABLE=5, TEMPDEV=6, TEMPERTURE_NUM=7, THMDEV=8)\n",
    "NUM_ENTITY_TYPE = 8\n",
    "\n",
    "ONNX_SIM_FILE_NAME = \"./model/iot-nlu-sim.onnx\"\n",
    "ENGINE_FILE_NAME   = \"./model/iot-nlu-sim-fp16.engine\""
   ]
  },
  {
   "cell_type": "code",
   "execution_count": null,
   "metadata": {},
   "outputs": [],
   "source": [
    "import torch\n",
    "print(torch.__version__)\n",
    "import unicodedata\n",
    "from ner_tokenizer_bio import NER_tokenizer_BIO\n",
    "\n",
    "TOKENIZER_PATH = './model/iot-nlu-tokenizer'\n",
    "\n",
    "# トークナイザのロード\n",
    "tokenizer = NER_tokenizer_BIO.from_pretrained(\n",
    "    TOKENIZER_PATH,\n",
    "    num_entity_type=NUM_ENTITY_TYPE\n",
    ")"
   ]
  },
  {
   "cell_type": "code",
   "execution_count": null,
   "metadata": {},
   "outputs": [],
   "source": [
    "text = unicodedata.normalize('NFKC', '会議室にある黄色い電灯の火を点灯してくださいな')\n",
    "\n",
    "encoding, spans = tokenizer.encode_plus_untagged(\n",
    "    text, max_length=128, return_tensors='pt'\n",
    ")\n",
    "\n",
    "input_ids      = encoding[\"input_ids\"].numpy().astype(np.int32)\n",
    "attention_mask = encoding[\"attention_mask\"].numpy().astype(np.int32)\n",
    "token_type_ids = encoding[\"token_type_ids\"].numpy().astype(np.int32)\n",
    "\n",
    "#total_loss    = np.zeros([1,1]).astype(np.float32)\n",
    "total_loss    = np.zeros([1,1], np.float32)\n",
    "logits_intent = np.zeros([1, NUM_INTENT_LABELS], np.float32)\n",
    "logits_slot   = np.zeros([1, 128, 17], np.float32)\n",
    "\n",
    "print(f'input_ids:\\n\\tshape={input_ids.shape}\\n\\tsize={input_ids.nbytes} bytes\\n\\tcontent={input_ids}')\n",
    "print(f'attention_mask:\\n\\tshape={attention_mask.shape}\\n\\tsize={attention_mask.nbytes} bytes\\n\\tcontent={attention_mask}')\n",
    "print(f'token_type_ids:\\n\\tshape={token_type_ids.shape}\\n\\tsize={token_type_ids.nbytes} bytes\\n\\tcontent={token_type_ids}')"
   ]
  },
  {
   "cell_type": "code",
   "execution_count": null,
   "metadata": {},
   "outputs": [],
   "source": [
    "class MyLogger(trt.ILogger):\n",
    "    def __init__(self):\n",
    "       trt.ILogger.__init__(self)\n",
    "\n",
    "    def log(self, severity, msg):\n",
    "        print(severity, msg)"
   ]
  },
  {
   "cell_type": "code",
   "execution_count": null,
   "metadata": {},
   "outputs": [],
   "source": [
    "def build_engine(model_path, output_path):\n",
    "    print(\"building engine\")\n",
    "    logger = MyLogger()\n",
    "    builder = trt.Builder(logger)\n",
    "    \n",
    "    network = builder.create_network(1 << int(trt.NetworkDefinitionCreationFlag.EXPLICIT_BATCH))\n",
    "    parser = trt.OnnxParser(network, logger)\n",
    "    success = parser.parse_from_file(model_path)\n",
    "    for idx in range(parser.num_errors):\n",
    "        print(parser.get_error(idx))\n",
    "\n",
    "    config = builder.create_builder_config()\n",
    "    config.set_flag(trt.BuilderFlag.FP16)\n",
    "    config.set_memory_pool_limit(trt.MemoryPoolType.WORKSPACE, 4 << 33) # 1 MiB\n",
    "\n",
    "    network.get_input(0).shape = input_ids.shape\n",
    "    network.get_input(0).shape = attention_mask.shape\n",
    "    network.get_input(0).shape = token_type_ids.shape\n",
    "    \n",
    "    serialized_engine = builder.build_serialized_network(network, config)\n",
    "    with open( ENGINE_FILE_NAME, \"wb\") as f:\n",
    "        f.write(serialized_engine)\n",
    "        print(f\"{output_path} saved\")\n",
    "\n",
    "build_engine(ONNX_SIM_FILE_NAME, ENGINE_FILE_NAME)"
   ]
  },
  {
   "cell_type": "markdown",
   "metadata": {},
   "source": [
    "Inference"
   ]
  },
  {
   "cell_type": "code",
   "execution_count": null,
   "metadata": {},
   "outputs": [],
   "source": [
    "runtime = trt.Runtime(MyLogger())\n",
    "with open(ENGINE_FILE_NAME, 'rb') as f:\n",
    "    engine_bytes = f.read()\n",
    "    engine = runtime.deserialize_cuda_engine(engine_bytes)\n",
    "\n",
    "bert_context = engine.create_execution_context()"
   ]
  },
  {
   "cell_type": "code",
   "execution_count": null,
   "metadata": {},
   "outputs": [],
   "source": [
    "runtime = trt.Runtime(MyLogger())\n",
    "with open(ENGINE_FILE_NAME, 'rb') as f:\n",
    "    engine_bytes = f.read()\n",
    "    engine = runtime.deserialize_cuda_engine(engine_bytes)"
   ]
  },
  {
   "cell_type": "code",
   "execution_count": null,
   "metadata": {},
   "outputs": [],
   "source": [
    "bert_context = engine.create_execution_context()\n",
    "\n",
    "# outputs\n",
    "bert_output = torch.zeros((1, NUM_INTENT_LABELS)).cpu().detach().numpy()\n",
    "\n",
    "# memory allocation for inputs\n",
    "nbytes_input_ids      = trt.volume(input_ids.shape)      * trt.int32.itemsize\n",
    "nbytes_attention_mask = trt.volume(attention_mask.shape) * trt.int32.itemsize\n",
    "nbytes_token_type_ids = trt.volume(token_type_ids.shape) * trt.int32.itemsize\n",
    "nbytes_logits_intent  = trt.volume(logits_intent.shape)  * trt.float32.itemsize\n",
    "nbytes_logits_slot    = trt.volume(logits_slot.shape)    * trt.float32.itemsize\n",
    "nbytes_total_loss     = trt.volume(total_loss.shape)     * trt.float32.itemsize\n",
    "\n",
    "# memory allocation for inputs\n",
    "d_input_ids      = cuda.mem_alloc(nbytes_input_ids)\n",
    "d_attention_mask = cuda.mem_alloc(nbytes_attention_mask)\n",
    "d_token_type_ids = cuda.mem_alloc(nbytes_token_type_ids)\n",
    "\n",
    "# memory allocation for outputs\n",
    "d_logits_intent  = cuda.mem_alloc(nbytes_logits_intent)\n",
    "d_logits_slot    = cuda.mem_alloc(nbytes_logits_slot)\n",
    "d_total_loss     = cuda.mem_alloc(nbytes_total_loss)\n",
    "\n",
    "# Transfer input data from python buffers to device(GPU)\n",
    "stream = cuda.Stream()\n",
    "cuda.memcpy_htod_async(d_input_ids,      input_ids,      stream)\n",
    "cuda.memcpy_htod_async(d_attention_mask, attention_mask, stream)\n",
    "cuda.memcpy_htod_async(d_token_type_ids, token_type_ids, stream)\n",
    "\n",
    "# Run the model\n",
    "bindings = [int(d_input_ids), int(d_attention_mask), int(d_token_type_ids), int(d_logits_intent), int(d_logits_slot), int(d_total_loss)]\n",
    "bert_context.execute_async_v2(bindings=bindings, stream_handle=stream.handle)\n",
    "\n",
    "# Copy output from GPU to host\n",
    "cuda.memcpy_dtoh_async(logits_intent, d_logits_intent, stream)\n",
    "cuda.memcpy_dtoh_async(logits_slot,   d_logits_slot, stream)\n",
    "cuda.memcpy_dtoh_async(total_loss,    d_total_loss, stream)\n",
    "\n",
    "stream.synchronize()"
   ]
  },
  {
   "cell_type": "code",
   "execution_count": null,
   "metadata": {},
   "outputs": [],
   "source": [
    "intent       = logits_intent.argmax(-1)[0]\n",
    "scores_slots = logits_slot[0]\n",
    "entities_predicted = tokenizer.convert_bert_output_to_entities(\n",
    "    text, scores_slots, spans\n",
    ")\n",
    "print(f\"input text={text}\")\n",
    "print(f\"inferred intent={intent}\")\n",
    "print(f\"inferred entities={json.dumps(entities_predicted, indent=2, ensure_ascii=False)}\")"
   ]
  },
  {
   "cell_type": "markdown",
   "metadata": {},
   "source": [
    "Tips"
   ]
  },
  {
   "cell_type": "code",
   "execution_count": null,
   "metadata": {},
   "outputs": [],
   "source": [
    "# TRT tool\n",
    "# https://github.com/NVIDIA/TensorRT/tree/main/samples/trtexec\n",
    "!trtexec --loadEngine='sample.engine' --dumpLayerInfo --fp16"
   ]
  },
  {
   "cell_type": "code",
   "execution_count": null,
   "metadata": {},
   "outputs": [],
   "source": [
    "# How to check I/O of engine\n",
    "for i, b in enumerate(engine):\n",
    "    dtype = np.dtype(trt.nptype(engine.get_binding_dtype(i)))\n",
    "    print(f'\\t{dtype}')\n",
    "    print(f'\\t{engine.binding_is_input(b)}')\n",
    "    print(f'\\t{engine.get_binding_name(i)}')\n",
    "    if(engine.binding_is_input(b)):\n",
    "        print(f'\\t{engine.get_profile_shape(0, b)}')\n"
   ]
  },
  {
   "cell_type": "markdown",
   "metadata": {},
   "source": [
    "## Int8 Quantization"
   ]
  },
  {
   "cell_type": "markdown",
   "metadata": {},
   "source": [
    "We use Polygraphy to quantize and convert onnx to TensorRT Engine.\n",
    "See here for detail\n",
    "https://github.com/NVIDIA/TensorRT/tree/main/tools/Polygraphy/examples/cli/convert/01_int8_calibration_in_tensorrt\n",
    "\n",
    "Here is how to\n",
    "1. Clone TensorRT repository\n",
    "\n",
    "   Type following comnmands in iot-nlu-trt container.\n",
    "   \n",
    "   ```\n",
    "   cd ~/Github\n",
    "   git clone https://github.com/NVIDIA/TensorRT.git\n",
    "       # clone right under $HOME/Github in this example\n",
    "       # I used rev. 03f27009\n",
    "   export PATH=$PATH:$HOME/Github/TensorRT/tools/Polygraphy/bin\n",
    "   cd ~/Github/iot-nlu/src\n",
    "   \n",
    "   ```\n",
    "2. Set path to Polygraphy\n",
    "\n",
    "    ```\n",
    "    export PATH=$PATH:$HOME/Github/TensorRT/tools/Polygraphy/bin\n",
    "    ```\n",
    "3. Convert onnx models\n",
    "\n",
    "   ```\n",
    "    cd ~/Github/iot-nlu/src\n",
    "    polygraphy convert model/iot-nlu-sim.onnx --int8 --data-loader-script data_loader.py --calibration-cache model/iot-nlu-sim-int8.cache -o model/iot-nlu-sim-int8.engine\n",
    "    polygraphy convert model/iot-nlu.onnx --int8 --data-loader-script data_loader.py --calibration-cache model/iot-nlu-int8.cache -o model/iot-nlu-int8.engine\n",
    "   ```\n",
    "    "
   ]
  }
 ],
 "metadata": {
  "kernelspec": {
   "display_name": "Python 3",
   "language": "python",
   "name": "python3"
  },
  "language_info": {
   "codemirror_mode": {
    "name": "ipython",
    "version": 3
   },
   "file_extension": ".py",
   "mimetype": "text/x-python",
   "name": "python",
   "nbconvert_exporter": "python",
   "pygments_lexer": "ipython3",
   "version": "3.8.10"
  }
 },
 "nbformat": 4,
 "nbformat_minor": 5
}
